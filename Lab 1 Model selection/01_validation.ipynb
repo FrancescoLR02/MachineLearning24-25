{
 "cells": [
  {
   "cell_type": "markdown",
   "metadata": {},
   "source": [
    "# Machine Learning LAB 1: MODEL SELECTION\n",
    "\n",
    "Course 2024/25: *F. Chiariotti*\n",
    "\n",
    "The notebook contains a simple learning task over which we will implement **MODEL SELECTION AND VALIDATION**.\n",
    "\n",
    "Complete all the **required code sections** and **answer all the questions**.\n",
    "\n",
    "### IMPORTANT for the exam:\n",
    "\n",
    "The functions you might be required to implement in the exam will have the same signature and parameters as the ones in the labs"
   ]
  },
  {
   "cell_type": "markdown",
   "metadata": {},
   "source": [
    "## Polynomial Classification on Signal to Noise Ratios\n",
    "\n",
    "In this notebook we are going to explore the use of polynomial classification with polynomial regression. We are going to use the Numpy **polyfit** function, which performs polynomial regression.\n",
    "\n",
    "Our use case is a communication problem: we have a set of measurements of the Signal to Noise Ratio (SNR), i.e., the quality of the communication link, in various positions. The SNR depends on two components: firstly, the noise level (which is a random variable that does not depend on position) and the signal attenuation (usually modeled as a polynomial function of the distance).\n",
    "\n",
    "Our transmitter is in (0,0), and coordinates are in meters. In urban scenarios, the attenuation usually follows a third-degree polynomial, but it might be a fourth- or fifth-degree polynomial in more complex cases. How do we choose between different degrees? We will try with a maximum of **6**"
   ]
  },
  {
   "cell_type": "markdown",
   "metadata": {},
   "source": [
    "---"
   ]
  },
  {
   "cell_type": "markdown",
   "metadata": {},
   "source": [
    "## Import all the necessary Python libraries"
   ]
  },
  {
   "cell_type": "code",
   "execution_count": 13,
   "metadata": {},
   "outputs": [],
   "source": [
    "import numpy as np\n",
    "import scipy as sp\n",
    "import pandas as pd\n",
    "import itertools\n",
    "from matplotlib import pyplot as plt"
   ]
  },
  {
   "cell_type": "markdown",
   "metadata": {},
   "source": [
    "---"
   ]
  },
  {
   "cell_type": "markdown",
   "metadata": {},
   "source": [
    "## Load the data\n",
    "\n",
    "In this case, x and y are the two coordinates, and the SNR is the thing we are trying to predict\n",
    "\n",
    "**DO NOT CHANGE THE PRE-WRITTEN CODE UNLESS OTHERWISE SPECIFIED**"
   ]
  },
  {
   "cell_type": "code",
   "execution_count": 43,
   "metadata": {},
   "outputs": [
    {
     "data": {
      "text/html": [
       "<div>\n",
       "<style scoped>\n",
       "    .dataframe tbody tr th:only-of-type {\n",
       "        vertical-align: middle;\n",
       "    }\n",
       "\n",
       "    .dataframe tbody tr th {\n",
       "        vertical-align: top;\n",
       "    }\n",
       "\n",
       "    .dataframe thead th {\n",
       "        text-align: right;\n",
       "    }\n",
       "</style>\n",
       "<table border=\"1\" class=\"dataframe\">\n",
       "  <thead>\n",
       "    <tr style=\"text-align: right;\">\n",
       "      <th></th>\n",
       "      <th>x</th>\n",
       "      <th>y</th>\n",
       "      <th>SNR</th>\n",
       "    </tr>\n",
       "  </thead>\n",
       "  <tbody>\n",
       "    <tr>\n",
       "      <th>0</th>\n",
       "      <td>40.238833</td>\n",
       "      <td>4.265986</td>\n",
       "      <td>10.175131</td>\n",
       "    </tr>\n",
       "    <tr>\n",
       "      <th>1</th>\n",
       "      <td>98.283520</td>\n",
       "      <td>37.818614</td>\n",
       "      <td>3.825913</td>\n",
       "    </tr>\n",
       "    <tr>\n",
       "      <th>2</th>\n",
       "      <td>40.218399</td>\n",
       "      <td>70.433962</td>\n",
       "      <td>7.657508</td>\n",
       "    </tr>\n",
       "    <tr>\n",
       "      <th>3</th>\n",
       "      <td>62.067195</td>\n",
       "      <td>72.951305</td>\n",
       "      <td>4.979963</td>\n",
       "    </tr>\n",
       "    <tr>\n",
       "      <th>4</th>\n",
       "      <td>15.436981</td>\n",
       "      <td>22.427707</td>\n",
       "      <td>11.729007</td>\n",
       "    </tr>\n",
       "    <tr>\n",
       "      <th>...</th>\n",
       "      <td>...</td>\n",
       "      <td>...</td>\n",
       "      <td>...</td>\n",
       "    </tr>\n",
       "    <tr>\n",
       "      <th>195</th>\n",
       "      <td>69.378761</td>\n",
       "      <td>66.693153</td>\n",
       "      <td>8.378318</td>\n",
       "    </tr>\n",
       "    <tr>\n",
       "      <th>196</th>\n",
       "      <td>0.980225</td>\n",
       "      <td>93.372566</td>\n",
       "      <td>6.496289</td>\n",
       "    </tr>\n",
       "    <tr>\n",
       "      <th>197</th>\n",
       "      <td>84.321334</td>\n",
       "      <td>81.095003</td>\n",
       "      <td>4.036931</td>\n",
       "    </tr>\n",
       "    <tr>\n",
       "      <th>198</th>\n",
       "      <td>92.233200</td>\n",
       "      <td>48.454827</td>\n",
       "      <td>4.672679</td>\n",
       "    </tr>\n",
       "    <tr>\n",
       "      <th>199</th>\n",
       "      <td>77.095422</td>\n",
       "      <td>75.674921</td>\n",
       "      <td>5.244615</td>\n",
       "    </tr>\n",
       "  </tbody>\n",
       "</table>\n",
       "<p>200 rows × 3 columns</p>\n",
       "</div>"
      ],
      "text/plain": [
       "             x          y        SNR\n",
       "0    40.238833   4.265986  10.175131\n",
       "1    98.283520  37.818614   3.825913\n",
       "2    40.218399  70.433962   7.657508\n",
       "3    62.067195  72.951305   4.979963\n",
       "4    15.436981  22.427707  11.729007\n",
       "..         ...        ...        ...\n",
       "195  69.378761  66.693153   8.378318\n",
       "196   0.980225  93.372566   6.496289\n",
       "197  84.321334  81.095003   4.036931\n",
       "198  92.233200  48.454827   4.672679\n",
       "199  77.095422  75.674921   5.244615\n",
       "\n",
       "[200 rows x 3 columns]"
      ]
     },
     "execution_count": 43,
     "metadata": {},
     "output_type": "execute_result"
    }
   ],
   "source": [
    "df = pd.read_csv('data/snr_measurements.csv',sep=';')\n",
    "x = df['x'].to_numpy()\n",
    "y = df['y'].to_numpy()\n",
    "SNR = df['SNR'].to_numpy()\n",
    "\n",
    "df"
   ]
  },
  {
   "cell_type": "markdown",
   "metadata": {},
   "source": [
    "## Helper functions\n",
    "\n",
    "These functions will help us evaluate the results"
   ]
  },
  {
   "cell_type": "code",
   "execution_count": 66,
   "metadata": {},
   "outputs": [],
   "source": [
    "DistanceFunc = lambda x, y: np.sqrt(x**2 + y**2)\n",
    "\n",
    "\n",
    "def fit(distance, SNR, degree):\n",
    "    return np.polyfit(distance, SNR, deg=degree)\n",
    "\n",
    "def predict(distance, poly_coeffs):\n",
    "    \n",
    "    SNR = 0\n",
    "\n",
    "    for i in range(len(poly_coeffs)):\n",
    "        SNR += distance**i * poly_coeffs[-i-1]\n",
    "    \n",
    "    return SNR\n",
    "\n",
    "def evaluate(distance, SNR, poly_coeffs):\n",
    "\n",
    "    PredictSNR = predict(distance, poly_coeffs)\n",
    "    mse = 0\n",
    "\n",
    "    for i in range(len(distance)):\n",
    "        mse += (SNR[i] - PredictSNR[i])**2\n",
    "     \n",
    "    return mse/len(distance)\n",
    "\n",
    "def separate_test(distance, SNR, test_points):\n",
    "    # TODO: Return a training set and a test set (the test_points parameter controls the number of test points).\n",
    "    # The points should be selected randomly\n",
    "\n",
    "    #Drawing from a uniform distribution some random points\n",
    "    N = len(distance)\n",
    "    RandomIndex = np.random.choice(range(N), size=N-test_points, replace=False)\n",
    "    Mask = np.zeros(N, dtype=bool)\n",
    "    Mask[RandomIndex] = True\n",
    "\n",
    "    x_train, y_train = distance[Mask], SNR[Mask]\n",
    "\n",
    "    Mask = np.logical_not(Mask)\n",
    "    x_test, y_test = distance[Mask], SNR[Mask]\n",
    "\n",
    "\n",
    "    return x_train, y_train, x_test, y_test"
   ]
  },
  {
   "cell_type": "code",
   "execution_count": 71,
   "metadata": {},
   "outputs": [
    {
     "data": {
      "text/plain": [
       "150"
      ]
     },
     "execution_count": 71,
     "metadata": {},
     "output_type": "execute_result"
    }
   ],
   "source": [
    "Distance = DistanceFunc(x, y)\n",
    "FitCoeff = fit(Distance, SNR, 3)\n",
    "PredictSNR = predict(120, FitCoeff)\n",
    "MSE = evaluate(Distance, SNR, FitCoeff)\n",
    "\n",
    "xTrain, yTrain, xTest, yTest = separate_test(Distance, SNR, 50)"
   ]
  },
  {
   "cell_type": "code",
   "execution_count": 29,
   "metadata": {},
   "outputs": [
    {
     "data": {
      "text/plain": [
       "Text(0, 0.5, 'Signal to Noise Attenuation')"
      ]
     },
     "execution_count": 29,
     "metadata": {},
     "output_type": "execute_result"
    },
    {
     "data": {
      "image/png": "[encoded data removed]",
      "text/plain": [
       "<Figure size 640x480 with 1 Axes>"
      ]
     },
     "metadata": {},
     "output_type": "display_data"
    }
   ],
   "source": [
    "# TODO: separate the training and test sets and create a scatter plot of the SNR as a function of the distance\n",
    "\n",
    "plt.scatter(DistanceFunc(x, y), SNR )\n",
    "plt.xlabel(\"Distance [m]\")\n",
    "plt.ylabel(\"Signal to Noise Attenuation\")"
   ]
  },
  {
   "cell_type": "markdown",
   "metadata": {},
   "source": [
    "## A. K-fold cross-validation\n",
    "\n",
    "In this case, x and y are the two coordinates, and the SNR is the thing we are trying to predict"
   ]
  },
  {
   "cell_type": "code",
   "execution_count": 5,
   "metadata": {},
   "outputs": [],
   "source": [
    "# Function to perform the K-fold cross validation\n",
    "def k_fold_cross_validation(x_train: np.ndarray, y_train: np.ndarray, k: int, max_degree: int) -> tuple[tuple, tuple]:\n",
    "    # TODO: Perform K-fold cross-validation on the training set.\n",
    "    # The two returned values are the best model and the list of results for all degrees up to max_degree.\n",
    "    # The points should be selected randomly.\n",
    "    # The inputs and labels are already in terms of distance and SNR\n",
    "    return best, results"
   ]
  },
  {
   "cell_type": "code",
   "execution_count": 6,
   "metadata": {},
   "outputs": [],
   "source": [
    "# TODO: run the training with K-fold cross-validation with 40 test points and 4 folds Plot the validation score as a function of the degree"
   ]
  },
  {
   "cell_type": "code",
   "execution_count": 7,
   "metadata": {},
   "outputs": [],
   "source": [
    "# TODO: get the test performance of the best model and plot the model output and test points. \n",
    "# Try running the program multiple times, changing the values of K and the number of test points: is the output always the same?"
   ]
  },
  {
   "cell_type": "markdown",
   "metadata": {},
   "source": [
    "---"
   ]
  },
  {
   "cell_type": "markdown",
   "metadata": {},
   "source": [
    "## B. Tikhonov regularization\n",
    "\n",
    "Change the loss function to include a Tikhonov regularization term, as an alternative to cross-validation (try $\\lambda=0.01$)"
   ]
  },
  {
   "cell_type": "code",
   "execution_count": 8,
   "metadata": {},
   "outputs": [],
   "source": [
    "def evaluate_tikhonov(x_train: np.ndarray, y_train: np.ndarray, lambda_par: float, max_degree: int) -> tuple[tuple, tuple]:\n",
    "    # TODO: apply Tikhonov regularization AFTER the fitting process\n",
    "\n",
    "    return best, results"
   ]
  },
  {
   "cell_type": "code",
   "execution_count": 9,
   "metadata": {},
   "outputs": [],
   "source": [
    "# TODO: run the training with Tikhonov regularization and plot the loss as a function of the degree\n"
   ]
  },
  {
   "cell_type": "markdown",
   "metadata": {},
   "source": [
    "## C. Minimum description length regularization\n",
    "\n",
    "Change the loss function to include a representation length regularization term, as an alternative to cross-validation. The minimum description length of a polynomial of degree N is O(2^N) - try $\\lambda=0.02$"
   ]
  },
  {
   "cell_type": "code",
   "execution_count": 10,
   "metadata": {},
   "outputs": [],
   "source": [
    "def evaluate_representation(x_train: np.ndarray, y_train: np.ndarray, lambda_par: float, max_degree: int) -> tuple[tuple, tuple]:\n",
    "    # TODO: apply Tikhonov regularization AFTER the fitting process\n",
    "\n",
    "    return best, results"
   ]
  },
  {
   "cell_type": "code",
   "execution_count": 11,
   "metadata": {},
   "outputs": [],
   "source": [
    "# TODO: run the training with MDL regularization and plot the loss as a function of the degree"
   ]
  },
  {
   "cell_type": "markdown",
   "metadata": {},
   "source": [
    "### TEST\n",
    "\n",
    "Check the performance of the three solutions on the test set: which one does best?\n"
   ]
  },
  {
   "cell_type": "code",
   "execution_count": 12,
   "metadata": {},
   "outputs": [],
   "source": [
    "# TODO: plot the results"
   ]
  }
 ],
 "metadata": {
  "kernelspec": {
   "display_name": "base",
   "language": "python",
   "name": "python3"
  },
  "language_info": {
   "codemirror_mode": {
    "name": "ipython",
    "version": 3
   },
   "file_extension": ".py",
   "mimetype": "text/x-python",
   "name": "python",
   "nbconvert_exporter": "python",
   "pygments_lexer": "ipython3",
   "version": "3.12.2"
  }
 },
 "nbformat": 4,
 "nbformat_minor": 4
}
