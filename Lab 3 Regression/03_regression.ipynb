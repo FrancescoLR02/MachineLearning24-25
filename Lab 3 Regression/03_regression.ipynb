{
 "cells": [
  {
   "cell_type": "markdown",
   "metadata": {},
   "source": [
    "# Machine Learning LAB 3: LINEAR REGRESSION\n",
    "\n",
    "Course 2024/25: *F. Chiariotti*\n",
    "\n",
    "The notebook contains some simple tasks to be performed with **LINEAR REGRESSION MODELS**.\n",
    "\n",
    "Complete all the **required code sections**.\n",
    "\n",
    "### IMPORTANT for the exam:\n",
    "\n",
    "The functions you might be required to implement in the exam will have the same signature and parameters as the ones in the labs"
   ]
  },
  {
   "cell_type": "markdown",
   "metadata": {},
   "source": [
    "## VR traffic prediction\n",
    "\n",
    "In this notebook, we will explore the prediction of Virtual Reality (VR) traffic. The data come from the paper:\n",
    "\n",
    "Lecci, Mattia, _et al._ \"An open framework for analyzing and modeling XR network traffic.\" IEEE Access 9 (2021): 129782-129795.\n",
    "\n",
    "The VR game Virus Popper was instantiated on a computer through the RiftCat application: the user could then see the virtual content on their phone, which was strapped to their head with a Cardboard viewer. The file virus_popper.csv contains three columns from the traffic capture:\n",
    "idx    | frame size (B) |  time (s)\n",
    "0      | 38424          |  0.0\n",
    "1      | 39801          |  0.01944\n",
    "...\n",
    "\n",
    "The game was run at 60 frames per second, with a target rate of 30 Mb/s. The task is then to predict the size of the next frame, given the past N frames. This was explored in another paper:\n",
    "\n",
    "Chiariotti, Federico, _et al._ \"Temporal characterization and prediction of vr traffic: A network slicing use case.\" IEEE Transactions on Mobile Computing 23.5 (2023): 3890-3908.\n",
    "\n",
    "---"
   ]
  },
  {
   "cell_type": "markdown",
   "metadata": {},
   "source": [
    "## Import all the necessary Python libraries"
   ]
  },
  {
   "cell_type": "code",
   "execution_count": 1,
   "metadata": {},
   "outputs": [],
   "source": [
    "import numpy as np\n",
    "import pandas as pd\n",
    "import random as rnd\n",
    "from matplotlib import pyplot as plt\n",
    "from sklearn import linear_model, preprocessing\n",
    "from sklearn.model_selection import train_test_split\n",
    "\n",
    "np.random.seed(1)\n",
    "\n",
    "def load_dataset(filename):\n",
    "    data_train = pd.read_csv(filename)\n",
    "    data = data_train.iloc[:, 1].values # Get the second column (frame size) as the input\n",
    "    return data\n",
    "\n",
    "# Load the dataset\n",
    "data = load_dataset('data/virus_popper.csv')"
   ]
  },
  {
   "cell_type": "markdown",
   "metadata": {},
   "source": [
    "## Prepare the data and create training and test sets\n",
    "\n",
    "In this case, we are learning a time series: let us consider a memory of 2 samples, i.e., use X[n-1] and X[n-2] to predict X[n]."
   ]
  },
  {
   "cell_type": "code",
   "execution_count": 2,
   "metadata": {},
   "outputs": [
    {
     "name": "stdout",
     "output_type": "stream",
     "text": [
      "(25878, 3) (25878,) (8625, 3) (8625,)\n"
     ]
    }
   ],
   "source": [
    "# Normalize the dataset\n",
    "avg_size = np.mean(data)\n",
    "norm_data = np.asarray(data) / avg_size\n",
    "\n",
    "# Compute the splits and prepare the columns\n",
    "m_training = int(0.75*norm_data.shape[0])\n",
    "\n",
    "X_training = np.ones([m_training - 2, 3])\n",
    "X_training[:,1] = norm_data[: m_training - 2]\n",
    "X_training[:,2] = norm_data[1 : m_training - 1]\n",
    "Y_training = norm_data[2 : m_training]\n",
    "\n",
    "\n",
    "X_test = np.ones([norm_data.shape[0] - m_training - 2, 3])\n",
    "X_test[:,1] = norm_data[m_training : -2]\n",
    "X_test[:,2] = norm_data[m_training + 1 : -1]\n",
    "Y_test = norm_data[m_training + 2:]\n",
    "\n",
    "print(np.shape(X_training), np.shape(Y_training), np.shape(X_test), np.shape(Y_test))"
   ]
  },
  {
   "cell_type": "markdown",
   "metadata": {},
   "source": [
    "## Least Squares linear regression\n",
    "\n",
    "Train and evaluate the LS regressor on the data"
   ]
  },
  {
   "cell_type": "code",
   "execution_count": 3,
   "metadata": {},
   "outputs": [
    {
     "data": {
      "text/plain": [
       "array([[ 0.00163978, -0.00080261, -0.00080291],\n",
       "       [-0.00080261,  0.00172933, -0.0009245 ],\n",
       "       [-0.00080291, -0.0009245 ,  0.00172958]])"
      ]
     },
     "execution_count": 3,
     "metadata": {},
     "output_type": "execute_result"
    }
   ],
   "source": [
    "A = np.dot(X_training.T, X_training)\n",
    "\n",
    "A = np.linalg.inv(A)\n",
    "\n",
    "A"
   ]
  },
  {
   "cell_type": "code",
   "execution_count": 4,
   "metadata": {},
   "outputs": [],
   "source": [
    "# Least squares solution\n",
    "def least_squares(X_matrix: np.ndarray, labels: np.ndarray) -> None:\n",
    "    ## TODO: Run the LS algorithm without regularization\n",
    "\n",
    "    A = np.dot(X_matrix.T, X_matrix)\n",
    "    b = np.dot(X_matrix.T, labels)\n",
    "    w = np.dot(np.linalg.inv(A), b)\n",
    "\n",
    "    return w\n",
    "    \n",
    "\n",
    "def evaluate_model(x, y, coeff):\n",
    "    ## TODO: Return the average MSE for the set over which we evaluate\n",
    "    mse = np.sum((np.dot(x, coeff.T) - y)**2)/len(y)\n",
    "\n",
    "    return mse"
   ]
  },
  {
   "cell_type": "code",
   "execution_count": 5,
   "metadata": {},
   "outputs": [
    {
     "name": "stdout",
     "output_type": "stream",
     "text": [
      "Training RMSE: 9070.165039219852\n",
      "Model coefficients: [0.36986742 0.20348677 0.42565451]\n",
      "Root MSE: 7712.354721539114\n"
     ]
    }
   ],
   "source": [
    "# Run the LS training and test it on the test data\n",
    "trained_model = least_squares(X_training, Y_training)\n",
    "print('Training RMSE:', np.sqrt(evaluate_model(X_training, Y_training, trained_model)) * avg_size)\n",
    "mse = evaluate_model(X_test, Y_test, trained_model)\n",
    "print('Model coefficients:', trained_model)\n",
    "print('Root MSE:', np.sqrt(mse) * avg_size)"
   ]
  },
  {
   "cell_type": "markdown",
   "metadata": {},
   "source": [
    "---"
   ]
  },
  {
   "cell_type": "markdown",
   "metadata": {},
   "source": [
    "## Least Squares with Tikhonov regularization\n",
    "\n",
    "Perform K-fold cross validation with $\\lambda\\in\\{0, 0.1, 1, 10\\}$"
   ]
  },
  {
   "cell_type": "code",
   "execution_count": 6,
   "metadata": {},
   "outputs": [],
   "source": [
    "test = np.eye(10) * 3\n"
   ]
  },
  {
   "cell_type": "code",
   "execution_count": 7,
   "metadata": {},
   "outputs": [],
   "source": [
    "# Least squares solution\n",
    "def regularized_least_squares(X_matrix: np.ndarray, labels: np.ndarray, lambda_par: np.ndarray) -> None:\n",
    "    # Create A and b as in unregularized LS\n",
    "    A = np.transpose(X_matrix).dot(X_matrix)\n",
    "    b = np.transpose(X_matrix).dot(labels)\n",
    "    # Add the regularization part in the inverse\n",
    "    coeff = np.linalg.inv(A + lambda_par * np.eye(np.shape(A)[0])).dot(b)\n",
    "    return coeff\n",
    "\n",
    "    \n",
    "\n",
    "def K_fold(X_training: np.ndarray, Y_training: np.ndarray, lambda_vec: np.ndarray, K: np.ndarray) -> None:\n",
    "    results = []\n",
    "\n",
    "    #Ensures that does not go above the number of train data\n",
    "    #! IMPORTANT\n",
    "\n",
    "    fracData = int(np.floor(len(X_training)/K))\n",
    "\n",
    "    for l in lambda_vec:\n",
    "\n",
    "        ErrorForFold = []\n",
    "\n",
    "        for i in range(K):\n",
    "\n",
    "            #separate train into train and validation\n",
    "            idx = np.arange(len(X_training))\n",
    "            #! IMPORTANT\n",
    "            valIdx = np.arange(fracData) + i*fracData\n",
    "\n",
    "            trainIdx = [i for i in idx if i not in valIdx]\n",
    "            \n",
    "            xVal, yVal = X_training[valIdx], Y_training[valIdx]\n",
    "            xTrain, yTrain = X_training[trainIdx], Y_training[trainIdx]\n",
    "\n",
    "            FitCoeff = regularized_least_squares(xTrain, yTrain, l)\n",
    "            mse = evaluate_model(xVal, yVal, FitCoeff)\n",
    "\n",
    "            ErrorForFold.append(mse)\n",
    "\n",
    "\n",
    "        results.append(np.mean(ErrorForFold))\n",
    "    \n",
    "    bestRes = np.min(results)\n",
    "    bestLambda = lambda_vec[np.argmin(results)]\n",
    "\n",
    "    best = (bestRes, bestLambda)\n",
    "\n",
    "\n",
    "    return best, results"
   ]
  },
  {
   "cell_type": "code",
   "execution_count": 8,
   "metadata": {},
   "outputs": [
    {
     "name": "stdout",
     "output_type": "stream",
     "text": [
      "(0.02215650302762246, 99) [0.022586225857636512, 0.022578944514582054, 0.02257175644427977, 0.022564660090417528, 0.022557653929379244, 0.022550736469413416, 0.022543906249832407, 0.02253716184023077, 0.022530501839730467, 0.022523924876245206, 0.022517429605768018, 0.022511014711677865, 0.022504678904068598, 0.022498420919095367, 0.022492239518339414, 0.022486133488193248, 0.022480101639260276, 0.02247414280577488, 0.02246825584503543, 0.022462439636854858, 0.022456693083027265, 0.02245101510680738, 0.022445404652406183, 0.022439860684499678, 0.02243438218775109, 0.022428968166346465, 0.022423617643542317, 0.022418329661226588, 0.022413103279490212, 0.022407937576210856, 0.022402831646648115, 0.022397784603049083, 0.022392795574264074, 0.022387863705373122, 0.02238298815732214, 0.02237816810656862, 0.022373402744736242, 0.022368691278279368, 0.02236403292815519, 0.022359426929505034, 0.022354872531343332, 0.022350368996255494, 0.022345915600102528, 0.02234151163173361, 0.02233715639270555, 0.02233284919701013, 0.022328589370808227, 0.022324376252169188, 0.022320209190818147, 0.022316087547889267, 0.022312010695685672, 0.022307978017443643, 0.022303988907103705, 0.022300042769088386, 0.022296139018083284, 0.02229227707882457, 0.022288456385892087, 0.02228467638350574, 0.02228093652532969, 0.02227723627427755, 0.022273575102325714, 0.02226995249032877, 0.022266367927840477, 0.02226282091293818, 0.022259310952052275, 0.022255837559799038, 0.022252400258817296, 0.022248998579608995, 0.022245632060384758, 0.02224230024691013, 0.02223900269235863, 0.02223573895716499, 0.022232508608885357, 0.022229311222057412, 0.022226146378065255, 0.022223013665007573, 0.022219912677567528, 0.022216843016886877, 0.02221380429044259, 0.022210796111925384, 0.022207818101122278, 0.0222048698838008, 0.022201951091595732, 0.022199061361899395, 0.022196200337753356, 0.022193367667742145, 0.022190563005891218, 0.02218778601156422, 0.0221850363493661, 0.022182313689044646, 0.022179617705396205, 0.022176948078174483, 0.022174304491997195, 0.02217168663626023, 0.022169094205049113, 0.022166526897054332, 0.022163984415488475, 0.022161466468004844, 0.02215897276661729, 0.02215650302762246]\n"
     ]
    },
    {
     "data": {
      "image/png": "[encoded data removed]",
      "text/plain": [
       "<Figure size 640x480 with 1 Axes>"
      ]
     },
     "metadata": {},
     "output_type": "display_data"
    }
   ],
   "source": [
    "# Run the training with K-fold cross-validation and plot the score\n",
    "K = 5\n",
    "lambda_par = range(100)\n",
    "\n",
    "best_model, results = K_fold(X_training, Y_training, lambda_par, K)\n",
    "print(best_model, results)\n",
    "plt.plot(lambda_par, np.sqrt(results) * avg_size)\n",
    "plt.xlabel('$\\lambda$')\n",
    "plt.ylabel('RMSE')\n",
    "plt.show()\n"
   ]
  },
  {
   "cell_type": "code",
   "execution_count": 9,
   "metadata": {},
   "outputs": [
    {
     "ename": "NameError",
     "evalue": "name 'models' is not defined",
     "output_type": "error",
     "traceback": [
      "\u001b[0;31m---------------------------------------------------------------------------\u001b[0m",
      "\u001b[0;31mNameError\u001b[0m                                 Traceback (most recent call last)",
      "Cell \u001b[0;32mIn[9], line 2\u001b[0m\n\u001b[1;32m      1\u001b[0m \u001b[38;5;66;03m# Plot the results for the regularized models on the test set\u001b[39;00m\n\u001b[0;32m----> 2\u001b[0m test_scores \u001b[38;5;241m=\u001b[39m np\u001b[38;5;241m.\u001b[39mzeros(\u001b[38;5;28mlen\u001b[39m(models))\n\u001b[1;32m      4\u001b[0m \u001b[38;5;28;01mfor\u001b[39;00m i \u001b[38;5;129;01min\u001b[39;00m \u001b[38;5;28mrange\u001b[39m(\u001b[38;5;28mlen\u001b[39m(models)):\n\u001b[1;32m      5\u001b[0m     test_scores[i] \u001b[38;5;241m=\u001b[39m evaluate_model(X_test, Y_test, models[i])\n",
      "\u001b[0;31mNameError\u001b[0m: name 'models' is not defined"
     ]
    }
   ],
   "source": [
    "# Plot the results for the regularized models on the test set\n",
    "test_scores = np.zeros(len(models))\n",
    "\n",
    "for i in range(len(models)):\n",
    "    test_scores[i] = evaluate_model(X_test, Y_test, models[i])\n",
    "\n",
    "plt.plot(lambda_par, np.sqrt(test_scores) * avg_size)\n",
    "plt.xlabel('$\\lambda$')\n",
    "plt.ylabel('RMSE')\n",
    "plt.show()\n"
   ]
  },
  {
   "cell_type": "markdown",
   "metadata": {},
   "source": [
    "### EXTRA\n",
    "\n",
    "Can you figure out the best amount of memory to use?\n"
   ]
  }
 ],
 "metadata": {
  "kernelspec": {
   "display_name": "base",
   "language": "python",
   "name": "python3"
  },
  "language_info": {
   "codemirror_mode": {
    "name": "ipython",
    "version": 3
   },
   "file_extension": ".py",
   "mimetype": "text/x-python",
   "name": "python",
   "nbconvert_exporter": "python",
   "pygments_lexer": "ipython3",
   "version": "3.12.9"
  }
 },
 "nbformat": 4,
 "nbformat_minor": 4
}
